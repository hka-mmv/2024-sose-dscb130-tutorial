{
 "cells": [
  {
   "cell_type": "markdown",
   "metadata": {
    "vscode": {
     "languageId": "bat"
    }
   },
   "source": [
    "<h1>Boolean in Python</h1>\n",
    "\n",
    "Da es häufig notwendig ist in der Programmierung Ausdrücke miteinander zu vergleichen. Mit Booleans ist es möglich einen zu prüfen ob ein Ausdruck wahr oder falsch ist.\n",
    "\n",
    "| Verhältnis | Ausdruck in Python |\n",
    "| --- | --- |\n",
    "| ist gleich | a == b |\n",
    "| ist nicht gleich | a != b |\n",
    "| kleiner als | a < b |\n",
    "| kleiner oder gleich zu | a <= b |\n",
    "| größer als | a > b |\n",
    "| größer oder gleich zu | a >= b \n",
    "\n",
    "So gibt ein ``` print(a < b) ``` z.b. ``` True ``` aus wenn a 5 und b 10.\n",
    "\n",
    "nätürlich gibt es auch hier den Typecast ``` bool()``` zu nutzen."
   ]
  },
  {
   "cell_type": "code",
   "execution_count": null,
   "metadata": {},
   "outputs": [],
   "source": [
    "a = 5\n",
    "b = 10"
   ]
  },
  {
   "cell_type": "markdown",
   "metadata": {},
   "source": [
    "Es ist allerdings auch möglich bei anderen Datentypen zu schauen ob diese Leer sind, ohne Kontrollstrukturen oder Vergleiche zu nutzen."
   ]
  },
  {
   "cell_type": "code",
   "execution_count": null,
   "metadata": {},
   "outputs": [],
   "source": []
  },
  {
   "cell_type": "markdown",
   "metadata": {},
   "source": [
    "<h1> If, else und elif </h1>\n",
    "Auch wenn Booleans auch so schon nützlich sind entfalten sie ihr wahres Potenzial in kombination mit Kontrollstrukturen."
   ]
  },
  {
   "cell_type": "code",
   "execution_count": null,
   "metadata": {},
   "outputs": [],
   "source": [
    "#Gib aus, dass b größer als a ist, wenn das richtig ist."
   ]
  },
  {
   "cell_type": "markdown",
   "metadata": {},
   "source": [
    "<h4> Else </h4>\n",
    "Da man mit einem If nicht alle Möglichkeiten abfangen kann/ sollte ist ein Else in der Regel notwendig."
   ]
  },
  {
   "cell_type": "code",
   "execution_count": null,
   "metadata": {},
   "outputs": [],
   "source": []
  },
  {
   "cell_type": "markdown",
   "metadata": {},
   "source": [
    "<h4> Elif </h4>\n",
    "Da du in der Realität häufig zwischen mehreren Optionen entscheiden musst ist es praktisch, dass wir die Möglichkeit auch in Python haben."
   ]
  },
  {
   "cell_type": "code",
   "execution_count": null,
   "metadata": {},
   "outputs": [],
   "source": []
  },
  {
   "cell_type": "markdown",
   "metadata": {},
   "source": [
    "<h3> If, else und elif als Einzeiler </h3>\n",
    "Sofern es sich anbietet ist es auch möglich eine verkürzte Version eines Ifs zu erstellen, wobei darauf geachtet werden muss, dass es nicht zu unübersichtlich wird."
   ]
  },
  {
   "cell_type": "markdown",
   "metadata": {},
   "source": [
    "<h4> If </h4>"
   ]
  },
  {
   "cell_type": "code",
   "execution_count": null,
   "metadata": {},
   "outputs": [],
   "source": []
  },
  {
   "cell_type": "markdown",
   "metadata": {},
   "source": [
    "<h4> Else und \"Elif\" </h4>"
   ]
  },
  {
   "cell_type": "code",
   "execution_count": null,
   "metadata": {},
   "outputs": [],
   "source": [
    "print (\"B ist größer als A\") if b > a else print(\"A ist größer als B\") if a > b else print(\"\")"
   ]
  },
  {
   "cell_type": "markdown",
   "metadata": {},
   "source": [
    "<h2> Verschachtelte Ifs </h2>\n",
    "Hinweis: Nur benutzen wenn es absolut notwendig ist, da es ansich ein schlechter Programmierstiel ist!"
   ]
  },
  {
   "cell_type": "code",
   "execution_count": null,
   "metadata": {},
   "outputs": [],
   "source": []
  },
  {
   "cell_type": "markdown",
   "metadata": {},
   "source": [
    "<h2> Logische Operatoren in kombination mit Ifs </h2>\n",
    "\n",
    "<h4> And </h4>"
   ]
  },
  {
   "cell_type": "code",
   "execution_count": null,
   "metadata": {},
   "outputs": [],
   "source": [
    "#Wie könnte das Aussehen"
   ]
  },
  {
   "cell_type": "markdown",
   "metadata": {},
   "source": [
    "<h4> Or </h4>"
   ]
  },
  {
   "cell_type": "code",
   "execution_count": null,
   "metadata": {},
   "outputs": [],
   "source": []
  },
  {
   "cell_type": "markdown",
   "metadata": {},
   "source": [
    "<h4> Not </h4>"
   ]
  },
  {
   "cell_type": "code",
   "execution_count": null,
   "metadata": {},
   "outputs": [],
   "source": []
  }
 ],
 "metadata": {
  "kernelspec": {
   "display_name": "base",
   "language": "python",
   "name": "python3"
  },
  "language_info": {
   "codemirror_mode": {
    "name": "ipython",
    "version": 3
   },
   "file_extension": ".py",
   "mimetype": "text/x-python",
   "name": "python",
   "nbconvert_exporter": "python",
   "pygments_lexer": "ipython3",
   "version": "3.12.3"
  }
 },
 "nbformat": 4,
 "nbformat_minor": 2
}
