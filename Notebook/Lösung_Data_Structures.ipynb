{
 "cells": [
  {
   "cell_type": "markdown",
   "id": "8b23ce9f-6459-476a-975d-23ee40675e48",
   "metadata": {},
   "source": [
    "# Übungen Data Structures\n",
    "\n",
    "Listen list()/[]: geordnet, veränderbar (https://www.w3schools.com/python/python_lists.asp)<br>\n",
    "Tuple: tuple(),(): geordnet, unveränderbar (https://www.w3schools.com/python/python_tuples.asp)<br>\n",
    "Dictionaries dict()/{key: value}: ungeordnete key-value Paare, veränderbar (https://www.w3schools.com/python/python_dictionaries.asp)<br>\n",
    "Sets set()/{}: ungeordnet, veränderbar (https://www.w3schools.com/python/python_sets.asp)<br>\n"
   ]
  },
  {
   "cell_type": "markdown",
   "id": "69558126-014a-49ae-bbc2-a40f7fad7e20",
   "metadata": {},
   "source": [
    "### Listen & Tuples\n",
    "und Sets"
   ]
  },
  {
   "cell_type": "code",
   "execution_count": 111,
   "id": "9b4e598f-76f6-4f06-8459-797aefa2f15f",
   "metadata": {},
   "outputs": [],
   "source": [
    "# Erstelle eine Liste mit den Buchstaben a, b und c, eine Liste mit c, e und f und eine leere Liste\n",
    "list_1 = [\"a\", \"b\", \"c\"]\n",
    "list_2 = [\"c\", \"e\", \"f\"]\n",
    "list_3 = []"
   ]
  },
  {
   "cell_type": "code",
   "execution_count": 112,
   "id": "f2dbd233-80fa-4ac7-b7ed-56c165acbad5",
   "metadata": {},
   "outputs": [
    {
     "name": "stdout",
     "output_type": "stream",
     "text": [
      "['a', 'b', 'c', 'c', 'e', 'f']\n"
     ]
    }
   ],
   "source": [
    "# Hänge list_1 und list_2 and list_3 an\n",
    "\n",
    "list_3.extend(list_1)\n",
    "\n",
    "#list_3 = list_3 + list_2\n",
    "list_3 += list_2\n",
    "\n",
    "print(list_3)"
   ]
  },
  {
   "cell_type": "code",
   "execution_count": 113,
   "id": "9811933a-02a5-4aac-92f5-798b60ffd91f",
   "metadata": {},
   "outputs": [
    {
     "name": "stdout",
     "output_type": "stream",
     "text": [
      "['a', 'b', 'c', 'c', 'e', 'f', 'g']\n"
     ]
    }
   ],
   "source": [
    "# Hänge list_3 den Buchstanben g an\n",
    "\n",
    "list_3.append(\"g\")\n",
    "\n",
    "print(list_3)"
   ]
  },
  {
   "cell_type": "code",
   "execution_count": 114,
   "id": "54f72559-c55e-4492-ba86-184cf93ee72e",
   "metadata": {},
   "outputs": [
    {
     "name": "stdout",
     "output_type": "stream",
     "text": [
      "['a', 'b', 'c', 'd', 'e', 'f', 'g']\n"
     ]
    }
   ],
   "source": [
    "# Ersetze in list_3 das zweite c durch ein d\n",
    "\n",
    "list_3[3] = \"d\"\n",
    "\n",
    "print(list_3)"
   ]
  },
  {
   "cell_type": "code",
   "execution_count": 115,
   "id": "95e81a2f-57c7-4f0c-9049-9a7f829e7c01",
   "metadata": {},
   "outputs": [
    {
     "name": "stdout",
     "output_type": "stream",
     "text": [
      "['b', 'd', 'f']\n"
     ]
    }
   ],
   "source": [
    "# Extrahiere b, d, f aus list_3\n",
    "\n",
    "list_4 = list_3[1::2]\n",
    "\n",
    "print(list_4)"
   ]
  },
  {
   "cell_type": "code",
   "execution_count": 116,
   "id": "42133496-72d7-491b-a8f0-8db15cfc3c2e",
   "metadata": {},
   "outputs": [],
   "source": [
    "# Erstelle ein tuple mit den Zahlen 1, 2 und 3\n",
    "tuple_1 = (1, 2, 3)"
   ]
  },
  {
   "cell_type": "code",
   "execution_count": 117,
   "id": "8448b38d-d1dc-4d2e-ac34-a0880351fb1d",
   "metadata": {},
   "outputs": [
    {
     "name": "stdout",
     "output_type": "stream",
     "text": [
      "(1, 2, 3, 4)\n"
     ]
    }
   ],
   "source": [
    "# Hänge die Zahl 4 an tuple_1 an\n",
    "\n",
    "#tuple_1 = tuple_1 + (4,)\n",
    "tuple_1 += (4,)\n",
    "\n",
    "print(tuple_1)"
   ]
  },
  {
   "cell_type": "code",
   "execution_count": 118,
   "id": "7ecbf35f-0d25-4376-9254-b05e2e87fb87",
   "metadata": {},
   "outputs": [
    {
     "name": "stdout",
     "output_type": "stream",
     "text": [
      "[1, 2, 99, 4, 7, 'a', 87]\n"
     ]
    }
   ],
   "source": [
    "# Lösche alle Duplikate aus der Liste (Ergebnis soll wieder eine Liste sein):\n",
    "list_with_duplicates = [1, 2, 4, 4, 7, \"a\", \"a\", 87, 7, 99]\n",
    "\n",
    "list_without_duplicates = list(set(list_with_duplicates))\n",
    "\n",
    "print(list_without_duplicates)"
   ]
  },
  {
   "cell_type": "code",
   "execution_count": 119,
   "id": "dcb2f48b-c6e6-4dc4-b7af-cb474f456e82",
   "metadata": {},
   "outputs": [
    {
     "name": "stdout",
     "output_type": "stream",
     "text": [
      "[1, 2, 99, 4, 7, 87]\n"
     ]
    }
   ],
   "source": [
    "# lösche aus list_without_duplicates den Buchstaben a\n",
    "\n",
    "#list_without_duplicates.remove(\"a\")\n",
    "list_without_duplicates.pop(5)\n",
    "\n",
    "print(list_without_duplicates)"
   ]
  },
  {
   "cell_type": "code",
   "execution_count": 120,
   "id": "45817a88-add6-4133-9cdb-2fabe7df358a",
   "metadata": {},
   "outputs": [
    {
     "name": "stdout",
     "output_type": "stream",
     "text": [
      "[99, 87, 7, 4, 2, 1]\n"
     ]
    }
   ],
   "source": [
    "# Sortiere list_without_duplicates absteigend\n",
    "\n",
    "list_without_duplicates.sort(reverse=True)\n",
    "\n",
    "print(list_without_duplicates)"
   ]
  },
  {
   "cell_type": "markdown",
   "id": "271d9e6c-a4ef-44e4-b864-1efa8ee85687",
   "metadata": {},
   "source": [
    "### Dictionaries"
   ]
  },
  {
   "cell_type": "code",
   "execution_count": 121,
   "id": "e88c56a0-93c1-48d5-902e-22dfea8cedfd",
   "metadata": {},
   "outputs": [],
   "source": [
    "# Erstelle in dictionary mit den key-value Paaren a-1, b-2, c-3\n",
    "mydict = {\"a\": 1, \"b\":2, \"c\":3}"
   ]
  },
  {
   "cell_type": "code",
   "execution_count": 122,
   "id": "d71bc2b4-6106-4e60-8920-5076b9cf334b",
   "metadata": {},
   "outputs": [
    {
     "name": "stdout",
     "output_type": "stream",
     "text": [
      "[('a', 1), ('b', 2), ('c', 3)]\n",
      "[1, 2, 3]\n",
      "['a', 'b', 'c']\n"
     ]
    }
   ],
   "source": [
    "# Gebe die key-value Paare, die values, und die keys Paare als Liste aus\n",
    "\n",
    "print(list(mydict.items()))\n",
    "print(list(mydict.values()))\n",
    "print(list(mydict.keys()))"
   ]
  },
  {
   "cell_type": "code",
   "execution_count": 127,
   "id": "a859b85d-0eda-446a-8398-916de5e69d82",
   "metadata": {},
   "outputs": [
    {
     "name": "stdout",
     "output_type": "stream",
     "text": [
      "{'a': -1, 'b': 2, 'c': 3, 'd': 4}\n"
     ]
    }
   ],
   "source": [
    "# Hänge das key-value Paar d-4 an und ändere a-1 zu a-(-1)\n",
    "\n",
    "mydict[\"d\"] = 4\n",
    "mydict[\"a\"] = -1\n",
    "\n",
    "print(mydict)"
   ]
  },
  {
   "cell_type": "code",
   "execution_count": 126,
   "id": "8da5a00f-6cd5-40aa-8593-e922e855aa2d",
   "metadata": {},
   "outputs": [],
   "source": [
    "# print() folgende Ausdrücke: \"DD\", 98\n",
    "nested_data = [1, (2,), 6, {}, {\"a\": (99, 98, 97), \"z\": {\"zz\": 88, \"bb\": 77}}, \"3\", (5, \"DD\"), \"ABC\"]"
   ]
  },
  {
   "cell_type": "code",
   "execution_count": 105,
   "id": "326f9adb-25d9-4c70-94ce-cfc0a37ccdda",
   "metadata": {},
   "outputs": [
    {
     "name": "stdout",
     "output_type": "stream",
     "text": [
      "98\n",
      "DD\n"
     ]
    }
   ],
   "source": [
    "print(nested_data[4][\"a\"][1])\n",
    "print(nested_data[-2][1])"
   ]
  }
 ],
 "metadata": {
  "kernelspec": {
   "display_name": "Python 3 (ipykernel)",
   "language": "python",
   "name": "python3"
  },
  "language_info": {
   "codemirror_mode": {
    "name": "ipython",
    "version": 3
   },
   "file_extension": ".py",
   "mimetype": "text/x-python",
   "name": "python",
   "nbconvert_exporter": "python",
   "pygments_lexer": "ipython3",
   "version": "3.11.5"
  }
 },
 "nbformat": 4,
 "nbformat_minor": 5
}
