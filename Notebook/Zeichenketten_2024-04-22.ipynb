{
 "cells": [
  {
   "cell_type": "markdown",
   "metadata": {},
   "source": [
    "<h1>Einführung in Strings</h1>\n",
    "\n",
    "Zeichenketten in python sind immer mit ``` \"\" ``` oder ``` '' ``` markiert um den anfang und das Ende der Zeichenkette zu markieren.\n"
   ]
  },
  {
   "cell_type": "code",
   "execution_count": 1,
   "metadata": {},
   "outputs": [
    {
     "name": "stdout",
     "output_type": "stream",
     "text": [
      "Hallo.\n",
      "Hallo 😊\n",
      "Ich bin \"Hallo\" in \"\".\n"
     ]
    }
   ],
   "source": [
    "print(\"Hallo.\")\n",
    "print('Hallo 😊')\n",
    "print(\"Ich bin \\\"Hallo\\\" in \\\"\\\".\")\n"
   ]
  },
  {
   "cell_type": "markdown",
   "metadata": {},
   "source": [
    "Dadurch, dass ``` \"\" ``` oder ``` '' ``` möglich sind heißt, dass z.B.\n",
    "```python:\n",
    "print('ein \"Hallo\" in anführungsstrichen möglich ist.')\n",
    "```\n",
    "\n",
    "<h3>Mehrzeilige Zeichenketten und Variablen</h3>"
   ]
  },
  {
   "cell_type": "code",
   "execution_count": 28,
   "metadata": {},
   "outputs": [
    {
     "name": "stdout",
     "output_type": "stream",
     "text": [
      "    Lorem ipsum dolor sit amet,\n",
      "consectetur adipiscing elit,\n",
      "\n",
      "    sed do eiusmod tempor incididunt\n",
      "ut labore et dolore magna aliqua.\n",
      "    Lorem ipsum dolor sit amet,\n",
      "consectetur adipiscing elit,\n",
      "    sed do eiusmod tempor incididunt\n",
      "ut labore et dolore magna aliqua.\n"
     ]
    }
   ],
   "source": [
    "fülltext_1 = \"\"\"    Lorem ipsum dolor sit amet,\n",
    "consectetur adipiscing elit,\n",
    "\"\"\"\n",
    "\n",
    "fülltext_2 = '''    sed do eiusmod tempor incididunt\n",
    "ut labore et dolore magna aliqua.'''\n",
    "\n",
    "print(fülltext_1)\n",
    "print(fülltext_2)\n",
    "print(fülltext_1 + fülltext_2)\n"
   ]
  },
  {
   "cell_type": "markdown",
   "metadata": {},
   "source": [
    "<h4> Zeichenketten konkatenieren</h4>"
   ]
  },
  {
   "cell_type": "code",
   "execution_count": 20,
   "metadata": {},
   "outputs": [
    {
     "name": "stdout",
     "output_type": "stream",
     "text": [
      "Lorem ipsum dolor sit amet,\n",
      "consectetur adipiscing elit,\n",
      "sed do eiusmod tempor incididunt\n",
      "ut labore et dolore magna aliqua.\n"
     ]
    }
   ],
   "source": [
    "fülltext = fülltext_1 + fülltext_2\n",
    "\n",
    "print(fülltext)\n"
   ]
  },
  {
   "cell_type": "markdown",
   "metadata": {},
   "source": [
    "<h4>Strings sind Arrays</h4>\n"
   ]
  },
  {
   "cell_type": "code",
   "execution_count": 21,
   "metadata": {},
   "outputs": [
    {
     "name": "stdout",
     "output_type": "stream",
     "text": [
      "L\n",
      "d\n",
      "\n",
      "\n",
      "123\n"
     ]
    }
   ],
   "source": [
    "print(fülltext[0])\n",
    "\n",
    "print(fülltext[70])\n",
    "\n",
    "print(fülltext[56])\n",
    "\n",
    "print(len(fülltext))"
   ]
  },
  {
   "cell_type": "code",
   "execution_count": 23,
   "metadata": {},
   "outputs": [
    {
     "name": "stdout",
     "output_type": "stream",
     "text": [
      ".\n"
     ]
    }
   ],
   "source": [
    "print(fülltext[122])"
   ]
  },
  {
   "cell_type": "code",
   "execution_count": 25,
   "metadata": {},
   "outputs": [
    {
     "name": "stdout",
     "output_type": "stream",
     "text": [
      "sed do eiusmod tempor incididunt\n",
      "ut labore et dolore magna aliqua.\n",
      "\n",
      "Lorem ipsum dolor sit amet,\n",
      "consectetur adipiscing elit,\n",
      "\n",
      "sed do eiusmod tempor incididunt\n",
      "ut labore et dolore magna aliqua.\n",
      "iqu\n"
     ]
    }
   ],
   "source": [
    "print(fülltext[57:123])\n",
    "\n",
    "print(\"\\n\" + fülltext[:56])\n",
    "\n",
    "print(\"\\n\" + fülltext[57:])\n",
    "\n",
    "print(fülltext[-5:-2])\n"
   ]
  },
  {
   "cell_type": "markdown",
   "metadata": {},
   "source": [
    "<h4>String funktionen</h4>"
   ]
  },
  {
   "cell_type": "code",
   "execution_count": 29,
   "metadata": {},
   "outputs": [
    {
     "name": "stdout",
     "output_type": "stream",
     "text": [
      "    LOREM IPSUM DOLOR SIT AMET,\n",
      "CONSECTETUR ADIPISCING ELIT,\n",
      "\n",
      "    lorem ipsum dolor sit amet,\n",
      "consectetur adipiscing elit,\n",
      "\n",
      "Lorem ipsum dolor sit amet,\n",
      "consectetur adipiscing elit,\n",
      "sed do eiusmod tempor incididunt\n",
      "ut labore et dolore magna aliqua.\n",
      "\n",
      "Lorem-ipsum-dolor-sit-amet,\n",
      "consectetur-adipiscing-elit,\n",
      "sed-do-eiusmod-tempor-incididunt\n",
      "ut-labore-et-dolore-magna-aliqua.\n",
      "['Lorem', 'ipsum', 'dolor', 'sit', 'amet,\\nconsectetur', 'adipiscing', 'elit,\\nsed', 'do', 'eiusmod', 'tempor', 'incididunt\\nut', 'labore', 'et', 'dolore', 'magna', 'aliqua.']\n"
     ]
    }
   ],
   "source": [
    "fülltext_1_upper = fülltext_1.upper()\n",
    "print(fülltext_1_upper) #Setzt alles in Großbuchstaben\n",
    "\n",
    "print(fülltext_1_upper.lower())\n",
    "\n",
    "print(fülltext.strip()) #Entfernt alle Leerzeichen am Anfang und am Ende\n",
    "\n",
    "print(\"\\n\" + fülltext.replace(\" \", '-'))\n",
    "\n",
    "print(fülltext.split(' ')) #Teilt alle Strings in Substrings anhand eines Trennzeichens\n"
   ]
  },
  {
   "cell_type": "markdown",
   "metadata": {},
   "source": [
    "<h4>F-Strings</h4>"
   ]
  },
  {
   "cell_type": "code",
   "execution_count": 31,
   "metadata": {},
   "outputs": [],
   "source": [
    "alter = 20\n"
   ]
  },
  {
   "cell_type": "code",
   "execution_count": 32,
   "metadata": {},
   "outputs": [
    {
     "ename": "TypeError",
     "evalue": "can only concatenate str (not \"int\") to str",
     "output_type": "error",
     "traceback": [
      "\u001b[1;31m---------------------------------------------------------------------------\u001b[0m",
      "\u001b[1;31mTypeError\u001b[0m                                 Traceback (most recent call last)",
      "Cell \u001b[1;32mIn[32], line 1\u001b[0m\n\u001b[1;32m----> 1\u001b[0m Satz \u001b[38;5;241m=\u001b[39m \u001b[38;5;124;43m\"\u001b[39;49m\u001b[38;5;124;43mJemand ist \u001b[39;49m\u001b[38;5;124;43m\"\u001b[39;49m\u001b[43m \u001b[49m\u001b[38;5;241;43m+\u001b[39;49m\u001b[43m \u001b[49m\u001b[43malter\u001b[49m \u001b[38;5;241m+\u001b[39m \u001b[38;5;124m\"\u001b[39m\u001b[38;5;124mJahre alt\u001b[39m\u001b[38;5;124m\"\u001b[39m\n\u001b[0;32m      2\u001b[0m \u001b[38;5;28mprint\u001b[39m(Satz)\n",
      "\u001b[1;31mTypeError\u001b[0m: can only concatenate str (not \"int\") to str"
     ]
    }
   ],
   "source": [
    "Satz = \"Jemand ist \" + alter + \"Jahre alt\"\n",
    "print(Satz)"
   ]
  },
  {
   "cell_type": "code",
   "execution_count": 33,
   "metadata": {},
   "outputs": [
    {
     "name": "stdout",
     "output_type": "stream",
     "text": [
      "Jemand ist 20 Jahre alt\n"
     ]
    }
   ],
   "source": [
    "Satz = f\"Jemand ist {alter} Jahre alt\"\n",
    "print(Satz)"
   ]
  },
  {
   "cell_type": "code",
   "execution_count": 34,
   "metadata": {},
   "outputs": [
    {
     "name": "stdout",
     "output_type": "stream",
     "text": [
      "Jemand ist 20.0 Jahre alt\n"
     ]
    }
   ],
   "source": [
    "Satz = f\"Jemand ist {(alter*alter)/alter} Jahre alt\"\n",
    "print(Satz)"
   ]
  },
  {
   "cell_type": "code",
   "execution_count": 36,
   "metadata": {},
   "outputs": [
    {
     "name": "stdout",
     "output_type": "stream",
     "text": [
      "Jemand ist 20.0 Jahre\" alt\n"
     ]
    }
   ],
   "source": [
    "Satz = f\"Jemand ist {alter:.1f} Jahre\\\" alt\"\n",
    "print(Satz)"
   ]
  },
  {
   "cell_type": "markdown",
   "metadata": {},
   "source": [
    "<h4>Weitere Zeichen</h4>\n",
    "\n",
    "|Code|Ergebnis|Beispiel / Erklärung |\n",
    "| -------- | -------- | --- |\n",
    "| \\' | Single Quote | fügt ein Anführungsstrich ein |\n",
    "| \\\\ | Backslash | fügt ein \\ ein |\n",
    "| \\n | New Line | erstellt einen Zeilenumbruch|\n",
    "| \\r | Carriage Return | Setzt die Nachfolgenden Zeichen an den Anfang einer Zeile|\n",
    "| \\t | Tab | \\t = .    .|\n",
    "| \\b | Backspace | Entfernt das vorherige Zeichen |\n",
    "| \\f | Form Feed | Sorgt dafür, dass z.B. ein Drucker eine neue Seite beginnt |\n",
    "| \\000 | Octal value | \"\\110\\141\\154\\154\\157\" |\n",
    "| \\xhh | Hex value | \"\\x48\\x61\\x6c\\x6c\\x6f\" |"
   ]
  },
  {
   "cell_type": "code",
   "execution_count": 38,
   "metadata": {},
   "outputs": [
    {
     "name": "stdout",
     "output_type": "stream",
     "text": [
      "Hallo\n"
     ]
    }
   ],
   "source": [
    "print(\"\\x48\\x61\\x6c\\x6c\\x6f\")\n"
   ]
  },
  {
   "cell_type": "markdown",
   "metadata": {},
   "source": [
    "<h4>Weitere Methoden</h4>\n",
    "\n",
    "[Python Dokumentation für String Methoden](https://docs.python.org/3/library/stdtypes.html#string-methods)\n",
    "\n",
    "[Python Methoden bei W3 Schools](https://www.w3schools.com/python/python_ref_string.asp)"
   ]
  },
  {
   "cell_type": "code",
   "execution_count": null,
   "metadata": {},
   "outputs": [],
   "source": [
    "print()"
   ]
  }
 ],
 "metadata": {
  "kernelspec": {
   "display_name": "Python 3",
   "language": "python",
   "name": "python3"
  },
  "language_info": {
   "codemirror_mode": {
    "name": "ipython",
    "version": 3
   },
   "file_extension": ".py",
   "mimetype": "text/x-python",
   "name": "python",
   "nbconvert_exporter": "python",
   "pygments_lexer": "ipython3",
   "version": "3.11.5"
  }
 },
 "nbformat": 4,
 "nbformat_minor": 2
}
