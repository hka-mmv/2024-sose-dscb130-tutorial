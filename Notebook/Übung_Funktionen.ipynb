{
 "cells": [
  {
   "cell_type": "markdown",
   "id": "97762881-c979-4f39-aca6-2d1731bbf042",
   "metadata": {},
   "source": [
    "# Übungen Funktionen\n",
    "\n",
    "Funktionen def abc(): https://www.w3schools.com/python/python_functions.asp\n"
   ]
  },
  {
   "cell_type": "code",
   "execution_count": 1,
   "id": "1fa2b154-5622-489b-aacd-7e646165d222",
   "metadata": {},
   "outputs": [
    {
     "name": "stdout",
     "output_type": "stream",
     "text": [
      "Hallo\n"
     ]
    }
   ],
   "source": [
    "# 1. Erstelle eine Funktion die \"Hallo\" ausgibt (print) und rufe die Funktion auf\n",
    "\n"
   ]
  },
  {
   "cell_type": "code",
   "execution_count": 3,
   "id": "36e95584-e5cf-47c9-971b-9ceedc6b2140",
   "metadata": {},
   "outputs": [
    {
     "name": "stdout",
     "output_type": "stream",
     "text": [
      "Hallo Max\n",
      "Hallo Moritz\n"
     ]
    }
   ],
   "source": [
    "# 2. Erstelle eine Funktion die \"Hallo {name}\" ausgibt, wobei der Name beim Aufrufen angegeben werden soll.\n",
    "\n"
   ]
  },
  {
   "cell_type": "code",
   "execution_count": 15,
   "id": "ff877ef7-8cc7-4ee7-b821-afe5dc896afd",
   "metadata": {},
   "outputs": [
    {
     "name": "stdout",
     "output_type": "stream",
     "text": [
      "fibonacci()\n",
      "1\n",
      "1\n",
      "2\n",
      "3\n",
      "5\n",
      "8\n",
      "\n",
      "fibonacci(20)\n",
      "1\n",
      "1\n",
      "2\n",
      "3\n",
      "5\n",
      "8\n",
      "13\n"
     ]
    }
   ],
   "source": [
    "# 3. Erstelle eine Funktion, die die Fibonacci Folge ausgibt. \n",
    "#    (Summe aus den beiden vorherigen Zahlen: 1, 1, 2, 3, 5, 8, 13, usw)\n",
    "#    Der höchste Werte soll angegeben werden können, wird nichts angegeben, \n",
    "#    soll die Folge abbrechen, bevor ein Wert über 10 ausgegeben wird\n",
    "\n"
   ]
  },
  {
   "cell_type": "code",
   "execution_count": 1,
   "id": "14cb2fbb-2e7f-4f97-8df8-37af3db14b5e",
   "metadata": {},
   "outputs": [
    {
     "name": "stdout",
     "output_type": "stream",
     "text": [
      "Hallo John\n",
      "\n",
      "Bestellung für nächste Woche:\n",
      "Äpfel 2\n",
      "Birnen 5\n",
      "\n",
      "Was sind die Preise für: Banenen, Ananas, Kiwi?\n",
      "\n",
      "Liferung an Kwik-E-Mart\n"
     ]
    }
   ],
   "source": [
    "# 4. Füge die Argumente in die Funktion ein, die bei einem (namentlich genannten) Händer \n",
    "#    eine (variable) Bestellung für Obst aufgibt (Sorte & Anzahl) (**kwarg)\n",
    "#    Preise für Obst abfragt (Sorte) (*args)\n",
    "#    Den Namen des Auftraggebers ausgibt (normalerweise immer der gleiche)\n",
    "\"\"\"\n",
    "Hallo John\n",
    "\n",
    "Bestellung für nächste Woche:\n",
    "Äpfel 2\n",
    "Birnen 5\n",
    "\n",
    "Was sind die Preise für: Banenen, Ananas, Kiwi?\n",
    "\n",
    "Liferung an Kwik-E-Mart\n",
    "\"\"\"\n",
    "\n",
    "def anfrage(#todo):                    # <- Argumente Eintragen (absender, bestellungen, händler, preisabfrage)\n",
    "    print(f\"Hallo {händler}\\n\")\n",
    "    \n",
    "    print(\"Bestellung für nächste Woche:\")\n",
    "    for a, b in bestellungen.items():\n",
    "        print(a, b)\n",
    "    print(f\"\\nWas sind die Preise für: {', '.join(preisabfrage)}?\\n\")\n",
    "    print(f\"Liferung an {absender}\")\n",
    "\n",
    "anfrage(\"John\", \"Banenen\", \"Ananas\", \"Kiwi\", Äpfel=2, Birnen=5)"
   ]
  },
  {
   "cell_type": "code",
   "execution_count": 6,
   "id": "501dea0b-b4f7-4072-88ba-a3183fd63551",
   "metadata": {},
   "outputs": [
    {
     "name": "stdout",
     "output_type": "stream",
     "text": [
      "16\n",
      "8\n",
      "4\n",
      "2\n",
      "1\n",
      "Für die Zahl 5 benötigt man 5 Schritte\n"
     ]
    }
   ],
   "source": [
    "# 6. Für eine vom Benutzer eingegebene Zahl soll bei geraden Zahlen durch 2 geteilt werden, \n",
    "#    bei ungeraden mit drei multipliziert und 1 addiert werden (Collatz-Problem) \n",
    "#    bis als letze Zahl eine 1 erreicht wird. Ausgegeben sollen die Zahlen umgekehrt (von der 1 aus startend)\n",
    "#    Am Ende soll die Anzahl der Schritte ausgegeben werden\n",
    "#    Lösung OHNE Schleifen -> Rekursion\n",
    "\n"
   ]
  },
  {
   "cell_type": "code",
   "execution_count": null,
   "id": "132aed50-3a4a-40f1-9ae4-8227625fe8fd",
   "metadata": {},
   "outputs": [],
   "source": []
  }
 ],
 "metadata": {
  "kernelspec": {
   "display_name": "Python 3 (ipykernel)",
   "language": "python",
   "name": "python3"
  },
  "language_info": {
   "codemirror_mode": {
    "name": "ipython",
    "version": 3
   },
   "file_extension": ".py",
   "mimetype": "text/x-python",
   "name": "python",
   "nbconvert_exporter": "python",
   "pygments_lexer": "ipython3",
   "version": "3.11.5"
  }
 },
 "nbformat": 4,
 "nbformat_minor": 5
}
