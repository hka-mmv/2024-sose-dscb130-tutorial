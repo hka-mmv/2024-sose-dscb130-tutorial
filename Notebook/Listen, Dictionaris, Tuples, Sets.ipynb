{
 "cells": [
  {
   "cell_type": "markdown",
   "metadata": {},
   "source": [
    "<h1> Komplexere Datenstrukturen </h1>\n",
    "\n",
    "Wie auch in anderen Programmiersprachen gibt es auch in Python komplexere Datenstrukturen. Es gibt vier Datenstrukturen die in Python auch ohne einen Import nutzbar sind, ```List```, ```Tuple```, ```Set``` und ```Dictionaries```."
   ]
  },
  {
   "cell_type": "code",
   "execution_count": 2,
   "metadata": {},
   "outputs": [],
   "source": [
    "praktische_Liste = [\"Senfeier\", \"Rhabarberkuchen\", \"Leberkäsebrötchen\"]\n"
   ]
  },
  {
   "cell_type": "markdown",
   "metadata": {},
   "source": [
    "<h3> Listen und ihre Eigenschften </h3>\n",
    "<h4> Listen sind geordnet </h4>\n",
    "Was könnte das meinen?"
   ]
  },
  {
   "cell_type": "code",
   "execution_count": null,
   "metadata": {},
   "outputs": [],
   "source": []
  },
  {
   "cell_type": "markdown",
   "metadata": {},
   "source": [
    "<h4> Listen sind veränderbar</h4>\n",
    "Das heißt es ist auch möglich nach dem erstellen einer Liste diese zu verändern"
   ]
  },
  {
   "cell_type": "code",
   "execution_count": null,
   "metadata": {},
   "outputs": [],
   "source": [
    "praktische_Liste.append(\"Motoröl\")\n",
    "praktische_Liste\n"
   ]
  },
  {
   "cell_type": "code",
   "execution_count": null,
   "metadata": {},
   "outputs": [],
   "source": [
    "praktische_Liste.pop()\n",
    "praktische_Liste"
   ]
  },
  {
   "cell_type": "code",
   "execution_count": null,
   "metadata": {},
   "outputs": [],
   "source": [
    "praktische_Liste.insert(1, \"Olivenöl\")"
   ]
  },
  {
   "cell_type": "code",
   "execution_count": null,
   "metadata": {},
   "outputs": [],
   "source": [
    "praktische_Liste2 = []\n",
    "praktische_Liste.extend()"
   ]
  },
  {
   "cell_type": "markdown",
   "metadata": {},
   "source": [
    "<h4> Die Länge einer Liste </h4>\n",
    "\n",
    "die Funktion ``` len()``` gibt die Die Anzahl an Objekten in der Liste wieder."
   ]
  },
  {
   "cell_type": "markdown",
   "metadata": {},
   "source": [
    "<h4>Der List() Konstruktor</h4>\n",
    "\n",
    "Es ist eine Liste mithilfe des ```list(())``` Konstruktors oder eines Typecast zu erstellen (```list()```)"
   ]
  },
  {
   "cell_type": "code",
   "execution_count": 73,
   "metadata": {},
   "outputs": [
    {
     "name": "stdout",
     "output_type": "stream",
     "text": [
      "{'b', 3, 'a'}\n",
      "['b', 3, 'a']\n"
     ]
    }
   ],
   "source": [
    "sset = set((\"a\", \"b\", 3))\n",
    "llist = list(sset)\n",
    "\n",
    "print(sset)\n",
    "print(llist)"
   ]
  },
  {
   "cell_type": "code",
   "execution_count": null,
   "metadata": {},
   "outputs": [],
   "source": []
  },
  {
   "cell_type": "markdown",
   "metadata": {},
   "source": [
    "<h3> Auf Listen Zugreifen</h3>\n",
    "Ähnlich wie bei Strings ist es auch möglich auf die Objekte in Listen mithilfe eines bei 0 beginnenden Index zuzugreifen."
   ]
  },
  {
   "cell_type": "code",
   "execution_count": 3,
   "metadata": {},
   "outputs": [
    {
     "data": {
      "text/plain": [
       "'Leberkäsebrötchen'"
      ]
     },
     "execution_count": 3,
     "metadata": {},
     "output_type": "execute_result"
    }
   ],
   "source": [
    "praktische_Liste[-1]"
   ]
  },
  {
   "cell_type": "code",
   "execution_count": null,
   "metadata": {},
   "outputs": [],
   "source": []
  },
  {
   "cell_type": "markdown",
   "metadata": {},
   "source": [
    "<h3>Sortieren von Listen</h3>\n",
    "Im Gegensatz zu Java ist es nicht notwendig eine eigene Sortierfunktion zu implementieren."
   ]
  },
  {
   "cell_type": "code",
   "execution_count": null,
   "metadata": {},
   "outputs": [],
   "source": [
    "zahlen = [6,2,7,3,876,4,9,3,2,6,8,0,1234]"
   ]
  },
  {
   "cell_type": "code",
   "execution_count": null,
   "metadata": {},
   "outputs": [],
   "source": [
    "zahlen.sort()"
   ]
  },
  {
   "cell_type": "code",
   "execution_count": null,
   "metadata": {},
   "outputs": [],
   "source": [
    "zahlen.sort(reverse=True)"
   ]
  },
  {
   "cell_type": "markdown",
   "metadata": {},
   "source": [
    "<h2>Dictionaries</h2>\n",
    "In Python funkitionnieren Dictionaries ähnlich wie Listen, es gibt ein paar Mathoden die es bei Listen nicht gibt, der größte Unterschied neben dem Aufbau von Dictionaries ist, dass es keine Dublikate gibt, sondern diese immermit dem neusten Schlüssel-Werte Paar überschrieben werden."
   ]
  },
  {
   "cell_type": "code",
   "execution_count": null,
   "metadata": {},
   "outputs": [],
   "source": [
    "Käsekuchen = {\"Mehl\" : 200 , \"Zucker\" : 75, \"Maragarine\" : 75, \"Ei\": 1, \"Backpulver\" : 0.5,}"
   ]
  },
  {
   "cell_type": "markdown",
   "metadata": {},
   "source": [
    "<h2>Sets</h2>\n",
    "Sets sind ungeortnet, deren Elemente sind nicht veränderbar und erlauben keine Dublikate."
   ]
  },
  {
   "cell_type": "code",
   "execution_count": null,
   "metadata": {},
   "outputs": [],
   "source": [
    "beispiel_Set = {\"Apfel\", \"Tomate\", \"Birne\"}\n",
    "beispiel_Set"
   ]
  },
  {
   "cell_type": "markdown",
   "metadata": {},
   "source": [
    "<h4>Sets vereinigen</h4>\n",
    "Es ist möglich Sets mit anderen Sets sowie anderen Datentypen auf diverse Arten zu zusammenzuführen."
   ]
  },
  {
   "cell_type": "code",
   "execution_count": null,
   "metadata": {},
   "outputs": [],
   "source": [
    "# union()\n",
    "# update()\n",
    "# intersection()\n",
    "# difference()\n",
    "# symetric_difference"
   ]
  },
  {
   "cell_type": "code",
   "execution_count": null,
   "metadata": {},
   "outputs": [],
   "source": [
    "beispiel_Set_2 = {\"Banane\", \"Kirscchen\", \"Mangos\"}"
   ]
  },
  {
   "cell_type": "markdown",
   "metadata": {},
   "source": [
    "<h2>Tuples</h2>\n",
    "Tuples erlauben Dublikate, sind geortnet und sind nicht veränderbar.\n",
    "Besonders bei Tuplen ist die Möglichkeit diese zuverpacke und zuentpacken."
   ]
  },
  {
   "cell_type": "code",
   "execution_count": null,
   "metadata": {},
   "outputs": [],
   "source": [
    "beispiel_Tuple = (\"Hi\", \"Hallo\", \"Moin\", \"Grüß Gott\", \"Guten Tag\")\n",
    "(rot, magenta, *gelb) = beispiel_Tuple\n"
   ]
  },
  {
   "cell_type": "code",
   "execution_count": null,
   "metadata": {},
   "outputs": [],
   "source": [
    "print(rot)"
   ]
  },
  {
   "cell_type": "code",
   "execution_count": null,
   "metadata": {},
   "outputs": [],
   "source": [
    "print(magenta)"
   ]
  },
  {
   "cell_type": "code",
   "execution_count": null,
   "metadata": {},
   "outputs": [],
   "source": [
    "print(gelb)"
   ]
  }
 ],
 "metadata": {
  "kernelspec": {
   "display_name": "Python 3",
   "language": "python",
   "name": "python3"
  },
  "language_info": {
   "codemirror_mode": {
    "name": "ipython",
    "version": 3
   },
   "file_extension": ".py",
   "mimetype": "text/x-python",
   "name": "python",
   "nbconvert_exporter": "python",
   "pygments_lexer": "ipython3",
   "version": "3.12.3"
  }
 },
 "nbformat": 4,
 "nbformat_minor": 2
}
