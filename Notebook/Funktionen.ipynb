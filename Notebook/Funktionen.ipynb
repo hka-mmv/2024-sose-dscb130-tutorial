{
 "cells": [
  {
   "cell_type": "markdown",
   "metadata": {},
   "source": [
    "<h1>Funktionen</h1>\n",
    "Funtionen sind neben Klassen das wichtigste Werkzeug um Code Wiederholungen zu vermeiden und Übersichtlichkeit zu schaffen. \n",
    "<h3>Ein Beispiel</h3>"
   ]
  },
  {
   "cell_type": "code",
   "execution_count": 42,
   "metadata": {},
   "outputs": [],
   "source": [
    "def ein_Beispiel(irgentetwas):\n",
    "    print (irgentetwas)"
   ]
  },
  {
   "cell_type": "code",
   "execution_count": 43,
   "metadata": {},
   "outputs": [
    {
     "name": "stdout",
     "output_type": "stream",
     "text": [
      "1\n",
      "Raphael\n",
      "['Hallo', 2, {1, 2, 3}]\n"
     ]
    }
   ],
   "source": [
    "ein_Beispiel(1)\n",
    "ein_Beispiel(\"Raphael\")\n",
    "ein_Beispiel([\"Hallo\", 2, {1,2,3}])"
   ]
  },
  {
   "cell_type": "markdown",
   "metadata": {},
   "source": [
    "<h3>Rückgabewerte </h3>"
   ]
  },
  {
   "cell_type": "code",
   "execution_count": 44,
   "metadata": {},
   "outputs": [],
   "source": [
    "def add(summ1, summ2):\n",
    "    return(summ1 + summ2)"
   ]
  },
  {
   "cell_type": "code",
   "execution_count": 45,
   "metadata": {},
   "outputs": [
    {
     "data": {
      "text/plain": [
       "2"
      ]
     },
     "execution_count": 45,
     "metadata": {},
     "output_type": "execute_result"
    }
   ],
   "source": [
    "add(1,1)"
   ]
  },
  {
   "cell_type": "markdown",
   "metadata": {},
   "source": [
    "<h3>Mehrere Argumente angeben</h3>"
   ]
  },
  {
   "cell_type": "code",
   "execution_count": 46,
   "metadata": {},
   "outputs": [],
   "source": [
    "def mehr_Argumente(*args):\n",
    "    for arg in args:\n",
    "        print (arg)"
   ]
  },
  {
   "cell_type": "code",
   "execution_count": 48,
   "metadata": {},
   "outputs": [
    {
     "name": "stdout",
     "output_type": "stream",
     "text": [
      "Hallo\n",
      "ich\n",
      "bin\n",
      "toll\n",
      ".\n"
     ]
    }
   ],
   "source": [
    "mehr_Argumente(\"Hallo\", \"ich\", \"bin\", \"toll\", \".\")"
   ]
  },
  {
   "cell_type": "code",
   "execution_count": null,
   "metadata": {},
   "outputs": [],
   "source": [
    "def mehr_Argumente_in_Dict(**args):\n",
    "    pass"
   ]
  },
  {
   "cell_type": "code",
   "execution_count": 49,
   "metadata": {},
   "outputs": [],
   "source": [
    "def genaue_Argumente(k1,k2,k3):\n",
    "    print(\"Das mittlere Kind ist \" + k2)"
   ]
  },
  {
   "cell_type": "code",
   "execution_count": 50,
   "metadata": {},
   "outputs": [
    {
     "name": "stdout",
     "output_type": "stream",
     "text": [
      "Das mittlere Kind ist Benedikt\n"
     ]
    }
   ],
   "source": [
    "genaue_Argumente(k3 = \"Michael\", k1 = \"Heinz\", k2 = \"Benedikt\")"
   ]
  },
  {
   "cell_type": "markdown",
   "metadata": {},
   "source": [
    "<h3>Standartwerte bei Funktionen</h3>\n",
    "Es ist auch möglich Standartwerte in bei den Argumenten anzugeben, diese sind insbesondere dann hilfreich wenn es nicht möglich zu 100% zu garantieren, dass es eine Angabe gibt."
   ]
  },
  {
   "cell_type": "code",
   "execution_count": 51,
   "metadata": {},
   "outputs": [],
   "source": [
    "def Funktion_mit_Standartwerte(Geburtsort = \"Berlin\", Geburtsjahr = None):\n",
    "    return(f\"Ich wurde in {Geburtsort} geboren.\")"
   ]
  },
  {
   "cell_type": "code",
   "execution_count": 52,
   "metadata": {},
   "outputs": [
    {
     "name": "stdout",
     "output_type": "stream",
     "text": [
      "Ich wurde in Mannheim geboren.\n"
     ]
    }
   ],
   "source": [
    "print (Funktion_mit_Standartwerte(\"Mannheim\"))"
   ]
  },
  {
   "cell_type": "code",
   "execution_count": 53,
   "metadata": {},
   "outputs": [
    {
     "name": "stdout",
     "output_type": "stream",
     "text": [
      "Ich wurde in Berlin geboren.\n"
     ]
    }
   ],
   "source": [
    "print (Funktion_mit_Standartwerte())"
   ]
  },
  {
   "cell_type": "markdown",
   "metadata": {},
   "source": [
    "<h3>Art der Argumente</h3>\n",
    "<h4>Positionale Argumente</h4>"
   ]
  },
  {
   "cell_type": "code",
   "execution_count": 54,
   "metadata": {},
   "outputs": [],
   "source": [
    "def Argumente_in_Reihenfolge(Argument1, Argument2, /):\n",
    "    print(Argument1)\n",
    "    print(Argument2)"
   ]
  },
  {
   "cell_type": "code",
   "execution_count": 55,
   "metadata": {},
   "outputs": [
    {
     "ename": "TypeError",
     "evalue": "Argumente_in_Reihenfolge() got some positional-only arguments passed as keyword arguments: 'Argument1'",
     "output_type": "error",
     "traceback": [
      "\u001b[1;31m---------------------------------------------------------------------------\u001b[0m",
      "\u001b[1;31mTypeError\u001b[0m                                 Traceback (most recent call last)",
      "Cell \u001b[1;32mIn[55], line 1\u001b[0m\n\u001b[1;32m----> 1\u001b[0m \u001b[43mArgumente_in_Reihenfolge\u001b[49m\u001b[43m(\u001b[49m\u001b[43mArgument1\u001b[49m\u001b[43m \u001b[49m\u001b[38;5;241;43m=\u001b[39;49m\u001b[43m \u001b[49m\u001b[38;5;124;43m\"\u001b[39;49m\u001b[38;5;124;43m1\u001b[39;49m\u001b[38;5;124;43m\"\u001b[39;49m\u001b[43m,\u001b[49m\u001b[43m \u001b[49m\u001b[43mArgumente2\u001b[49m\u001b[43m \u001b[49m\u001b[38;5;241;43m=\u001b[39;49m\u001b[43m \u001b[49m\u001b[38;5;124;43m\"\u001b[39;49m\u001b[38;5;124;43m2\u001b[39;49m\u001b[38;5;124;43m\"\u001b[39;49m\u001b[43m)\u001b[49m\n",
      "\u001b[1;31mTypeError\u001b[0m: Argumente_in_Reihenfolge() got some positional-only arguments passed as keyword arguments: 'Argument1'"
     ]
    }
   ],
   "source": [
    "Argumente_in_Reihenfolge(Argument1 = \"1\", Argumente2 = \"2\")"
   ]
  },
  {
   "cell_type": "code",
   "execution_count": 56,
   "metadata": {},
   "outputs": [
    {
     "name": "stdout",
     "output_type": "stream",
     "text": [
      "1\n",
      "2\n"
     ]
    }
   ],
   "source": [
    "Argumente_in_Reihenfolge(\"1\", \"2\")"
   ]
  },
  {
   "cell_type": "markdown",
   "metadata": {},
   "source": [
    "<h4>Schlüsserwort Argumente</h4>"
   ]
  },
  {
   "cell_type": "code",
   "execution_count": 57,
   "metadata": {},
   "outputs": [],
   "source": [
    "def Argumente_nicht_in_Reihenfolge(*, Argument1, Argument2):\n",
    "    return Argument2 % Argument1"
   ]
  },
  {
   "cell_type": "code",
   "execution_count": 58,
   "metadata": {},
   "outputs": [
    {
     "data": {
      "text/plain": [
       "0"
      ]
     },
     "execution_count": 58,
     "metadata": {},
     "output_type": "execute_result"
    }
   ],
   "source": [
    "Argumente_nicht_in_Reihenfolge(Argument2 = 2048, Argument1 = 4)"
   ]
  },
  {
   "cell_type": "markdown",
   "metadata": {},
   "source": [
    "<h4>Die Kombination von Beidem</h4>"
   ]
  },
  {
   "cell_type": "code",
   "execution_count": null,
   "metadata": {},
   "outputs": [],
   "source": [
    "def Beide_Varianten_gemischt(Argument1, /, *, Argument2):\n",
    "    return (Argument1 * Argument2)"
   ]
  },
  {
   "cell_type": "code",
   "execution_count": null,
   "metadata": {},
   "outputs": [],
   "source": [
    "Beide_Varianten_gemischt(50, Argument2 = 20)"
   ]
  },
  {
   "cell_type": "markdown",
   "metadata": {},
   "source": [
    "<h3>Rekursive Schleifen</h3>\n",
    "im gegensatz zu den iterativen Schleifen (for/while) gibt es auch rekursive Schleifen bei denen eine Funktion sich solange selber aufruft bis die \"Abbruchbedingung\" erfüllt ist bzw. die Bedinung nich mehr erfüllt ist. Wichtig: Es ist nicht immer möglich eine Funktion auf beide Varianten zu implementieren. "
   ]
  },
  {
   "cell_type": "code",
   "execution_count": null,
   "metadata": {},
   "outputs": [],
   "source": [
    "def Fakultät(n):\n",
    "    if n > 1:\n",
    "        ergebnis = n * Fakultät(n-1)\n",
    "    elif n == 1:\n",
    "        ergebnis = 1\n",
    "    return ergebnis"
   ]
  },
  {
   "cell_type": "code",
   "execution_count": 59,
   "metadata": {},
   "outputs": [
    {
     "name": "stdout",
     "output_type": "stream",
     "text": [
      "Das Ergebnis von n! ist 720.\n"
     ]
    }
   ],
   "source": [
    "print(f\"Das Ergebnis von n! ist {Fakultät(int(input()))}.\")"
   ]
  }
 ],
 "metadata": {
  "kernelspec": {
   "display_name": "Python 3",
   "language": "python",
   "name": "python3"
  },
  "language_info": {
   "codemirror_mode": {
    "name": "ipython",
    "version": 3
   },
   "file_extension": ".py",
   "mimetype": "text/x-python",
   "name": "python",
   "nbconvert_exporter": "python",
   "pygments_lexer": "ipython3",
   "version": "3.12.3"
  }
 },
 "nbformat": 4,
 "nbformat_minor": 2
}
