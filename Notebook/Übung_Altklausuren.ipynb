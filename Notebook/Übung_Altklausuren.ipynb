{
 "cells": [
  {
   "cell_type": "markdown",
   "metadata": {},
   "source": [
    "## Python-Basics"
   ]
  },
  {
   "cell_type": "markdown",
   "metadata": {},
   "source": [
    "### Aufgabe 10b WS23"
   ]
  },
  {
   "cell_type": "code",
   "execution_count": null,
   "metadata": {},
   "outputs": [],
   "source": [
    "# Korpussuche\n",
    "print(\"Die Anwendung sucht nach einer eingegebenen Zeichenkette (wörter und Symbole) in einem vorgegebenen\\ Blindtext (Lorem ipsum).\")\n",
    "\n",
    "# Korpus\n",
    "lorem_ipsum = \"Lorem ipsum dolor sit amet, consectetur adipiscing elit. Sed do eiusmod tempor incididunt\\ ut labore et dolore magna aliqua.\"\n",
    "\n",
    "print(\"\\n\")\n",
    "print(\"\\t\", lorem_ipsum)\n",
    "print(\"\\n\")\n",
    "\n",
    "# Eingabe\n",
    "\n",
    "\n",
    "# Verarbeitung\n",
    "# Berechnung der Länge des Suchtexts\n",
    "\n",
    "\n",
    "# Umwandlung des Suchtexts in Kleinbuchstaben und Entfernung von Leerzeichen am Anfang und Ende\n",
    "\n",
    "\n",
    "# Umwandlung des Lorem Ipsum Texts in Kleinbuchstaben und Entfernung von Leerzeichen am Anfang und Ende\n",
    "\n",
    "\n",
    "#  Aufteilen des Suchtexts in einzelne Wörter\n",
    "\n",
    "\n",
    "# Ergänzung mit Aufteilen des Lorem Ipsum Texts in einzelne Wörter\n",
    "\n",
    "\n",
    "# Durchsuche den vordefinierten Lorem Ipsum Text nach jedem Token des Suchtexts \n",
    "ergebnisse = []\n",
    "for token in woerter:\n",
    "\n",
    "\n",
    "# Ausgabe\n",
    "\n",
    "\n",
    "# Wohlformulierte Ausgabe für die Suche nach jedem Token im Lorem Ipsum Text\n",
    "\n",
    "\n",
    "if ergebnisse:\n",
    "\n",
    "\n",
    "else:\n",
    "    print(\"\\nKeine Übereinstimmungen im Lorem Ipsum Text gefunden.\")"
   ]
  },
  {
   "cell_type": "markdown",
   "metadata": {},
   "source": [
    "#### Die Ausgabe Ihres Programms sollte beispielsweise so aussehen:\n",
    "```\n",
    "Die Anwendung sucht nach einer eingegebenen Zeichenkette (Wörter und Symbole) in einem vorgegebenen Blindtext (Lorem ipsum).\n",
    "\n",
    "    Lorem ipsum dolor sit amet, consectetur adipiscing elit. Sed do eiusmod tempor incididunt ut labore et dolore magna aliqua.\n",
    "\n",
    "Nach welchen Begriffen/Symbolen soll gesucht werden?\n",
    "Suchbegriffe: DO SIT\n",
    "\n",
    "['lorem', 'ipsum', 'dolor', 'sit', 'amet,', 'consectetur', 'adipiscing', 'elit.', 'sed', 'do', 'eiusmod', 'tempor', 'incididunt', 'ut', 'labore', 'et', 'dolore', 'magna', 'aliqua.']\n",
    "\n",
    "Suchtext Länge: 6\n",
    "Suchtext in Kleinbuchstaben: do sit\n",
    "Suchtext in einzelne Worte sowie Satzzeichen zerlegt (Tokens): ['do', 'sit']\n",
    "\n",
    "Das Wort 'do' wurde im Lorem Ipsum Text gefunden an Position 12.\n",
    "Das Wort 'do' ist das 10. Wort im Lorem Ipsum Text.\n",
    "\n",
    "Das Wort 'sit' wurde im Lorem Ipsum Text gefunden an Position 18.\n",
    "Das Wort 'sit' ist das 4. Wort im Lorem Ipsum Text.\n",
    "```"
   ]
  },
  {
   "cell_type": "markdown",
   "metadata": {},
   "source": [
    "### Aufgabe 10c SS23"
   ]
  },
  {
   "cell_type": "code",
   "execution_count": null,
   "metadata": {},
   "outputs": [],
   "source": [
    "\n",
    "# Eingabe\n",
    "print(\"Die Anwendung wertet zwei eingegebene Zeichenketten aus.\") \n",
    "print(\"Bitte geben Sie die erste Zeichenkette ein:\")\n",
    "\n",
    "print(\"Bitte geben Sie die zweite Zeichenkette ein:\")\n",
    "\n",
    "\n",
    "# Verarbeitung\n",
    "# Verbinden der beiden Zeichenketten\n",
    "\n",
    "\n",
    "# Berechnung der Länge der Zeichenkette\n",
    "\n",
    "\n",
    "# Umwandlung in Kleinbuchstaben\n",
    "\n",
    "\n",
    "# Aufteilen in einzelne Wörter\n",
    "\n",
    "\n",
    "# Einfügen von Füllzeichen am Anfang und Ende der aufgeteilten Wortliste\n",
    "\n",
    "\n",
    "# Ermittle jedes zweite Zeichen\n",
    "\n",
    "\n",
    "# Ausgabe\n",
    "# Wohlformulierte Ausgabe der Wörter als f-String\n",
    "\n"
   ]
  },
  {
   "cell_type": "markdown",
   "metadata": {},
   "source": [
    "#### Die Ausgabe Ihres Programms sollte so aussehen:\n",
    "```\n",
    "Die Anwendung wertet zwei eingegebene Zeichenketten aus. \n",
    "Bitte geben Sie die erste Zeichenkette ein:\n",
    "    Data\n",
    "Bitte geben Sie die zweite Zeichenkette ein: \n",
    "    Science\n",
    "Die verbundene Zeichenkette lautet: data science.\n",
    "Die Zeichenkette besteht aus 12 Zeichen inkl. Leerzeichen.\n",
    "Jedes zweite Zeichen der Zeichenkette: dt cec.\n",
    "Die Wortliste beinhaltet die Wörter ['START', 'data', 'science', 'STOP'].\n",
    "```"
   ]
  },
  {
   "cell_type": "markdown",
   "metadata": {},
   "source": [
    "## Datenstrukturen"
   ]
  },
  {
   "cell_type": "markdown",
   "metadata": {},
   "source": [
    "### Aufgabe 11 WS23\n",
    "Die Stadt \"Metropolis\" möchte die Bevölkerungsentwicklung in ihren vier Stadtteilen Nord, Ost, West, Süd\n",
    "besser verfolgen. Implementieren Sie eine Datenstruktur in Python, um Informationen über verschiedene\n",
    "Stadtteile zu speichern. Jeder Stadtteil soll die folgenden Merkmale enthalten (Auswahl):\n",
    "- Stadtteilname\n",
    "- Fläche (in Hektar, SI Symbol ha)\n",
    "- Wohnberechtigte Bevölkerung mit Hauptwohnung in Metropolis\n",
    "- Bevölkerungsdichte je ha\n",
    "- Studierende\n",
    "- Wohnungsbestand\n",
    "- Grünfläche (in Hektar, SI Symbol ha)\n",
    "\n",
    "Verwenden Sie die Implementierung, um sie mit Beispieldaten für einen beliebigen Stadtteil durch eine\n",
    "eigene Funktion auszugeben."
   ]
  },
  {
   "cell_type": "code",
   "execution_count": null,
   "metadata": {},
   "outputs": [],
   "source": [
    "# TODO"
   ]
  },
  {
   "cell_type": "markdown",
   "metadata": {},
   "source": [
    "### Aufgabe 11 SS23\n",
    "Die HKA verkauft diverse Werbeartikel u.a. T-Shirts. Damit die Lagerbestände besser überblickt werden\n",
    "können, wird eine Lagerhaltung benötigt. Hierzu soll zunächst eine schlichte Python-Anwendung realisiert\n",
    "werden. Ihre Aufgabe ist es für die Datenhaltung einen Prototyp zu implementieren.<br>\n",
    "Erstellen Sie eine geeignete Datenstruktur für die Werbeartikel mit ihren Merkmalen:\n",
    "```\n",
    "Artikelart, Artikelnummer, Größe, Farbe, Bestand, Bestands-Datum\n",
    "```\n",
    "Verwenden Sie für den Prototyp den Werbeartikel T-Shirt mit selbst erdachten Werten."
   ]
  },
  {
   "cell_type": "code",
   "execution_count": null,
   "metadata": {},
   "outputs": [],
   "source": [
    "# TODO"
   ]
  },
  {
   "cell_type": "markdown",
   "metadata": {},
   "source": [
    "## Schleifen"
   ]
  },
  {
   "cell_type": "markdown",
   "metadata": {},
   "source": [
    "### Aufgabe 13 WS23\n",
    "Das Ziel dieser Aufgabe besteht darin, mithilfe einer for-Schleife die Kategorien von Datenobjekten in\n",
    "einem gegebenen Datenbestand zu analysieren. <br>\n",
    "**Datenbestand**: Ein vordefinierter Datenbestand in Form eines Dictionaries ist gegeben. Jedes Datenobjekt\n",
    "im Dictionary ist einer bestimmten Kategorie zugeordnet, wie z.B., Obst, Gemüse oder Getränk."
   ]
  },
  {
   "cell_type": "code",
   "execution_count": null,
   "metadata": {},
   "outputs": [],
   "source": [
    "# Datenbestand als Dictionary mit verschiedenen Objekten\n",
    "datenbestand = {\n",
    "    \"Apfel\": \"Obst\",\n",
    "    \"Karotte\": \"Gemüse\",\n",
    "    \"Wasser\": \"Getränk\",\n",
    "    \"Banane\": \"Obst\",\n",
    "    \"Tomate\": \"Gemüse\",\n",
    "    \"Club Mate\": \"Getränk\",\n",
    "    \"Orange\": \"Obst\",\n",
    "    \"Brokkoli\": \"Gemüse\",\n",
    "    \"Tee\": \"Getränk\",\n",
    "    \"Traube\": \"Obst\"\n",
    "}"
   ]
  },
  {
   "cell_type": "markdown",
   "metadata": {},
   "source": [
    "**Suchbegriff**: \n",
    "Ein spezifischer Suchbegriff, wie beispielsweise „Club Mate“, soll im Datenbestand gefunden\n",
    "und dessen Kategorie ermittelt werden. <br>\n",
    "**Implementierung**:\n",
    "Die Lösung der Aufgabe sollte den Suchbegriff im Datenbestand finden und die zugehörige Kategorie\n",
    "ausgeben. Falls der Suchbegriff nicht gefunden wird, sollte eine passende Meldung erscheinen.<br>\n",
    "**Anmerkungen**: \n",
    "Verwenden Sie die items-Methode des Dictionaries, um sowohl Schlüssel als auch Werte\n",
    "während der Iteration zu erhalten. Beachten Sie, dass der Suchbegriff möglicherweise nicht im\n",
    "Datenbestand vorhanden ist, und planen Sie entsprechende Meldungen dafür ein."
   ]
  },
  {
   "cell_type": "code",
   "execution_count": null,
   "metadata": {},
   "outputs": [],
   "source": [
    "# TODO"
   ]
  },
  {
   "cell_type": "markdown",
   "metadata": {},
   "source": [
    "### Aufgabe 13 SS23\n",
    "Erstellen Sie eine Anweisung, die jedes Element in einer Liste mit einem Vergleichswert prüft. Falls die\n",
    "Prüfung positiv ausfällt, soll die Ausführung der nächsten Iteration der Schleife erzwungen werden.\n",
    "Andernfalls soll der aktuell geprüfte Wert ausgegeben werden."
   ]
  },
  {
   "cell_type": "code",
   "execution_count": null,
   "metadata": {},
   "outputs": [],
   "source": [
    "# TODO"
   ]
  }
 ],
 "metadata": {
  "language_info": {
   "name": "python"
  }
 },
 "nbformat": 4,
 "nbformat_minor": 2
}
