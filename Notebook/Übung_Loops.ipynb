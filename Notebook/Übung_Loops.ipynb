{
 "cells": [
  {
   "cell_type": "markdown",
   "id": "8b23ce9f-6459-476a-975d-23ee40675e48",
   "metadata": {},
   "source": [
    "# Übungen Loops\n",
    "\n",
    "while loop: https://www.w3schools.com/python/python_while_loops.asp<br>\n",
    "foor loop: https://www.w3schools.com/python/python_for_loops.asp<br>\n"
   ]
  },
  {
   "cell_type": "markdown",
   "id": "69558126-014a-49ae-bbc2-a40f7fad7e20",
   "metadata": {},
   "source": [
    "### while loop"
   ]
  },
  {
   "cell_type": "code",
   "execution_count": 1,
   "id": "9b4e598f-76f6-4f06-8459-797aefa2f15f",
   "metadata": {},
   "outputs": [
    {
     "name": "stdout",
     "output_type": "stream",
     "text": [
      "1\n",
      "2\n",
      "3\n",
      "4\n",
      "5\n",
      "6\n",
      "7\n",
      "8\n",
      "9\n",
      "10\n"
     ]
    }
   ],
   "source": [
    "# gebe die Zahlen (print()) die Zahlen 1-10 mit einer while Schleife aus\n"
   ]
  },
  {
   "cell_type": "code",
   "execution_count": 3,
   "id": "f2dbd233-80fa-4ac7-b7ed-56c165acbad5",
   "metadata": {},
   "outputs": [
    {
     "name": "stdout",
     "output_type": "stream",
     "text": [
      "6\n",
      "12\n",
      "18\n"
     ]
    }
   ],
   "source": [
    "# gebe die Zahlen (print()) die Zahlen 1-20 mit einer while Schleife aus, wenn sie durch 2 und durch 3 teilbar sind\n"
   ]
  },
  {
   "cell_type": "code",
   "execution_count": 9,
   "id": "9811933a-02a5-4aac-92f5-798b60ffd91f",
   "metadata": {},
   "outputs": [
    {
     "name": "stdout",
     "output_type": "stream",
     "text": [
      "4\n",
      "8\n",
      "12\n",
      "15\n",
      "16\n",
      "20\n",
      "24\n",
      "28\n",
      "30\n",
      "32\n",
      "36\n",
      "40\n",
      "44\n",
      "45\n",
      "48\n",
      "52\n",
      "56\n"
     ]
    }
   ],
   "source": [
    "# gebe die Zahlen (print()) die Zahlen 1-100 mit einer while Schleife aus, wenn sie durch 15 oder durch 4 teilbar sind.\n",
    "# Wenn die Zahl durch 15 und durch 4 teilbar ist, soll die Schleife vor der Ausgabe abbrechen\n",
    "\n"
   ]
  },
  {
   "cell_type": "code",
   "execution_count": 12,
   "id": "54f72559-c55e-4492-ba86-184cf93ee72e",
   "metadata": {},
   "outputs": [
    {
     "name": "stdin",
     "output_type": "stream",
     "text": [
      "Zahl:\n",
      " 6\n"
     ]
    },
    {
     "name": "stdout",
     "output_type": "stream",
     "text": [
      "3\n",
      "10\n",
      "5\n",
      "16\n",
      "8\n",
      "4\n",
      "2\n",
      "1\n"
     ]
    }
   ],
   "source": [
    "# Für eine vom Benutzer eingegebene Zahl soll bei geraden Zahlen durch 2 geteilt werden, \n",
    "# bei ungeraden mit drei multipliziert und 1 addiert werden (Collatz-Problem) bis zur Folge 4, 2, 1 \n",
    "# und gebe jeden Schritt aus\n",
    "\n"
   ]
  },
  {
   "cell_type": "markdown",
   "id": "cf7a23c4-b298-4df3-8394-358ba05a954a",
   "metadata": {},
   "source": [
    "### For loop\n"
   ]
  },
  {
   "cell_type": "code",
   "execution_count": 15,
   "id": "42133496-72d7-491b-a8f0-8db15cfc3c2e",
   "metadata": {},
   "outputs": [
    {
     "name": "stdout",
     "output_type": "stream",
     "text": [
      "a\n",
      "b\n",
      "c\n",
      "d\n",
      "X\n",
      "Y\n",
      "Z\n"
     ]
    }
   ],
   "source": [
    "# gebe die Groß- und Kleinbuchstaben (print()) mit einer while Schleife einzeln aus\n",
    "kleinbuchstaben = \"abcd\"\n",
    "Großbustaben = [\"X\", \"Y\", \"Z\"]\n"
   ]
  },
  {
   "cell_type": "code",
   "execution_count": 16,
   "id": "8448b38d-d1dc-4d2e-ac34-a0880351fb1d",
   "metadata": {},
   "outputs": [
    {
     "name": "stdout",
     "output_type": "stream",
     "text": [
      "1\n",
      "2\n",
      "3\n",
      "4\n",
      "5\n",
      "6\n",
      "7\n",
      "8\n",
      "9\n",
      "10\n"
     ]
    }
   ],
   "source": [
    "# gebe die Zahlen (print()) die Zahlen 1-10 mit einer for Schleife und range() aus\n"
   ]
  },
  {
   "cell_type": "code",
   "execution_count": 20,
   "id": "7ecbf35f-0d25-4376-9254-b05e2e87fb87",
   "metadata": {},
   "outputs": [
    {
     "name": "stdout",
     "output_type": "stream",
     "text": [
      "3\n",
      "6\n",
      "9\n",
      "12\n",
      "15\n",
      "18\n",
      "21\n",
      "24\n",
      "27\n",
      "30\n"
     ]
    }
   ],
   "source": [
    "# gebe die Zahlen (print()) die Zahlen im Intervall ]0, 30] mit einer for Schleife aus\n",
    "# die durch 3 teilbar sind (ohne verwendung von if)\n"
   ]
  },
  {
   "cell_type": "code",
   "execution_count": 24,
   "id": "dcb2f48b-c6e6-4dc4-b7af-cb474f456e82",
   "metadata": {},
   "outputs": [
    {
     "name": "stdout",
     "output_type": "stream",
     "text": [
      "[('x', 'x'), ('x', 'y'), ('x', 'z'), ('y', 'x'), ('y', 'y'), ('y', 'z'), ('z', 'x'), ('z', 'y'), ('z', 'z')]\n"
     ]
    }
   ],
   "source": [
    "# Erstelle eine Liste aus Tupeln, die alle Kombinatinen der Elemente in elements enthält\n",
    "elements = [\"x\", \"y\", \"z\"]\n"
   ]
  },
  {
   "cell_type": "code",
   "execution_count": 30,
   "id": "45817a88-add6-4133-9cdb-2fabe7df358a",
   "metadata": {},
   "outputs": [
    {
     "name": "stdout",
     "output_type": "stream",
     "text": [
      "[2, 4, 6, 8, 12, 18, 16, 24, 10, 20, 30]\n"
     ]
    }
   ],
   "source": [
    "# Erstelle eine Liste die Zahlen aus 'werte' jeweils multipliziert mit 1-5 enthält. \n",
    "# Die Liste soll ohne Duplikate ausgegeben werden\n",
    "werte = [2, 4, 6]\n"
   ]
  },
  {
   "cell_type": "code",
   "execution_count": 31,
   "id": "cb874af2-826c-422e-bb5e-9c641d933be2",
   "metadata": {},
   "outputs": [
    {
     "name": "stdout",
     "output_type": "stream",
     "text": [
      "Der VW ist blau\n",
      "Der BMX ist grün\n",
      "Der Porsche ist rot\n",
      "Der Ferrari ist gelb\n"
     ]
    }
   ],
   "source": [
    "#Für jedes Auto soll die Farbe ausgegeben werden. Z.B.: \"Der VW ist blau\"\n",
    "car_dict = {'VW': 'blau', 'BMX': 'grün', 'Porsche': 'rot', 'Ferrari': 'gelb'}\n"
   ]
  },
  {
   "cell_type": "code",
   "execution_count": null,
   "id": "f96858f5-2c4b-4633-a4a3-f397f36f4af2",
   "metadata": {},
   "outputs": [],
   "source": []
  }
 ],
 "metadata": {
  "kernelspec": {
   "display_name": "Python 3 (ipykernel)",
   "language": "python",
   "name": "python3"
  },
  "language_info": {
   "codemirror_mode": {
    "name": "ipython",
    "version": 3
   },
   "file_extension": ".py",
   "mimetype": "text/x-python",
   "name": "python",
   "nbconvert_exporter": "python",
   "pygments_lexer": "ipython3",
   "version": "3.11.5"
  }
 },
 "nbformat": 4,
 "nbformat_minor": 5
}
