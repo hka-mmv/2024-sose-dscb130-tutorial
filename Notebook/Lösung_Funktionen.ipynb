{
 "cells": [
  {
   "cell_type": "markdown",
   "id": "97762881-c979-4f39-aca6-2d1731bbf042",
   "metadata": {},
   "source": [
    "# Übungen Funktionen\n",
    "\n",
    "Funktionen def abc(): https://www.w3schools.com/python/python_functions.asp\n"
   ]
  },
  {
   "cell_type": "code",
   "execution_count": 1,
   "id": "1fa2b154-5622-489b-aacd-7e646165d222",
   "metadata": {},
   "outputs": [
    {
     "name": "stdout",
     "output_type": "stream",
     "text": [
      "Hallo\n"
     ]
    }
   ],
   "source": [
    "# 1. Erstelle eine Funktion die \"Hallo\" ausgibt (print) und rufe die Funktion auf\n",
    "\n",
    "def hi():\n",
    "    print(\"Hallo\")\n",
    "\n",
    "hi()"
   ]
  },
  {
   "cell_type": "code",
   "execution_count": 3,
   "id": "36e95584-e5cf-47c9-971b-9ceedc6b2140",
   "metadata": {},
   "outputs": [
    {
     "name": "stdout",
     "output_type": "stream",
     "text": [
      "Hallo Max\n",
      "Hallo Moritz\n"
     ]
    }
   ],
   "source": [
    "# 2. Erstelle eine Funktion die \"Hallo {name}\" ausgibt, wobei der Name beim Aufrufen angegeben werden soll.\n",
    "\n",
    "def hi(name):\n",
    "    print(f\"Hallo {name}\")\n",
    "\n",
    "hi(\"Max\")\n",
    "hi(\"Moritz\")"
   ]
  },
  {
   "cell_type": "code",
   "execution_count": 15,
   "id": "ff877ef7-8cc7-4ee7-b821-afe5dc896afd",
   "metadata": {},
   "outputs": [
    {
     "name": "stdout",
     "output_type": "stream",
     "text": [
      "fibonacci()\n",
      "1\n",
      "1\n",
      "2\n",
      "3\n",
      "5\n",
      "8\n",
      "\n",
      "fibonacci(20)\n",
      "1\n",
      "1\n",
      "2\n",
      "3\n",
      "5\n",
      "8\n",
      "13\n"
     ]
    }
   ],
   "source": [
    "# 3. Erstelle eine Funktion, die die Fibonacci Folge ausgibt. \n",
    "#    (Summe aus den beiden vorherigen Zahlen: 1, 1, 2, 3, 5, 8, 13, usw)\n",
    "#    Der höchste Werte soll angegeben werden können, wird nichts angegeben, \n",
    "#    soll die Folge abbrechen, bevor ein Wert über 10 ausgegeben wird\n",
    "\n",
    "def fibonacci(n=10):\n",
    "    print(1)\n",
    "    a = 1\n",
    "    b = 1\n",
    "    memory = None\n",
    "    while a < n:\n",
    "        print(a)\n",
    "        memory = a\n",
    "        a = a + b\n",
    "        b = memory\n",
    "\n",
    "print(\"fibonacci()\")\n",
    "fibonacci()\n",
    "print(\"\\nfibonacci(20)\")\n",
    "fibonacci(20)"
   ]
  },
  {
   "cell_type": "code",
   "execution_count": 1,
   "id": "14cb2fbb-2e7f-4f97-8df8-37af3db14b5e",
   "metadata": {},
   "outputs": [
    {
     "name": "stdout",
     "output_type": "stream",
     "text": [
      "Hallo John\n",
      "\n",
      "Bestellung für nächste Woche:\n",
      "Äpfel 2\n",
      "Birnen 5\n",
      "\n",
      "Was sind die Preise für: Banenen, Ananas, Kiwi?\n",
      "\n",
      "Liferung an Kwik-E-Mart\n"
     ]
    }
   ],
   "source": [
    "# 4. Füge die Argumente in die Funktion ein, die bei einem (namentlich genannten) Händer \n",
    "#    eine (variable) Bestellung für Obst aufgibt (Sorte & Anzahl) (**kwarg)\n",
    "#    Preise für Obst abfragt (Sorte) (*args)\n",
    "#    Den Namen des Auftraggebers ausgibt (normalerweise immer der gleiche)\n",
    "\"\"\"\n",
    "Hallo John\n",
    "\n",
    "Bestellung für nächste Woche:\n",
    "Äpfel 2\n",
    "Birnen 5\n",
    "\n",
    "Was sind die Preise für: Banenen, Ananas, Kiwi?\n",
    "\n",
    "Liferung an Kwik-E-Mart\n",
    "\"\"\"\n",
    "\n",
    "def anfrage(händler,*preisabfrage, absender=\"Kwik-E-Mart\", **bestellungen):  # <- Argumente Eintragen (absender, bestellungen, händler, preisabfrage)\n",
    "    print(f\"Hallo {händler}\\n\")\n",
    "    \n",
    "    print(\"Bestellung für nächste Woche:\")\n",
    "    for a, b in bestellungen.items():\n",
    "        print(a, b)\n",
    "    print(f\"\\nWas sind die Preise für: {', '.join(preisabfrage)}?\\n\")\n",
    "    print(f\"Liferung an {absender}\")\n",
    "\n",
    "anfrage(\"John\", \"Banenen\", \"Ananas\", \"Kiwi\", Äpfel=2, Birnen=5)"
   ]
  },
  {
   "cell_type": "code",
   "execution_count": 4,
   "id": "501dea0b-b4f7-4072-88ba-a3183fd63551",
   "metadata": {},
   "outputs": [
    {
     "name": "stdin",
     "output_type": "stream",
     "text": [
      "Zahl:  10\n"
     ]
    },
    {
     "name": "stdout",
     "output_type": "stream",
     "text": [
      "1\n",
      "2\n",
      "4\n",
      "8\n",
      "16\n",
      "5\n",
      "Für die Zahl 10 benötigt man 6 Schritte\n"
     ]
    }
   ],
   "source": [
    "# 6. Für eine vom Benutzer eingegebene Zahl soll bei geraden Zahlen durch 2 geteilt werden, \n",
    "#    bei ungeraden mit drei multipliziert und 1 addiert werden (Collatz-Problem) \n",
    "#    bis als letze Zahl eine 1 erreicht wird. Ausgegeben sollen die Zahlen umgekehrt (von der 1 aus startend)\n",
    "#    Am Ende soll die Anzahl der Schritte ausgegeben werden\n",
    "#    Lösung OHNE Schleifen -> Rekursion\n",
    "\n",
    "def collatz(i):\n",
    "    if i == 1:\n",
    "        return 0\n",
    "    elif i%2 == 0:\n",
    "        i //= 2\n",
    "    else:\n",
    "        i *= 3\n",
    "        i += 1\n",
    "    c = collatz(i)\n",
    "    print(i)\n",
    "    return 1 + c\n",
    "\n",
    "n = int(input(\"Zahl: \"))\n",
    "\n",
    "print(f\"Für die Zahl {n} benötigt man {collatz(n)} Schritte\")\n",
    "    \n"
   ]
  },
  {
   "cell_type": "code",
   "execution_count": 7,
   "id": "132aed50-3a4a-40f1-9ae4-8227625fe8fd",
   "metadata": {},
   "outputs": [
    {
     "name": "stdout",
     "output_type": "stream",
     "text": [
      "1\n",
      "2\n",
      "('b1', 'b2')\n",
      "{'e1': 1, 'e2': 2}\n"
     ]
    }
   ],
   "source": [
    "def test_arg(a, *abc, b=2, **efg):\n",
    "    print(a)\n",
    "    print(b)\n",
    "    print(abc)\n",
    "    print(efg)\n",
    "\n",
    "test_arg(1, \"b1\", \"b2\", e1=1, e2=2)\n"
   ]
  }
 ],
 "metadata": {
  "kernelspec": {
   "display_name": "Python 3 (ipykernel)",
   "language": "python",
   "name": "python3"
  },
  "language_info": {
   "codemirror_mode": {
    "name": "ipython",
    "version": 3
   },
   "file_extension": ".py",
   "mimetype": "text/x-python",
   "name": "python",
   "nbconvert_exporter": "python",
   "pygments_lexer": "ipython3",
   "version": "3.11.5"
  }
 },
 "nbformat": 4,
 "nbformat_minor": 5
}
