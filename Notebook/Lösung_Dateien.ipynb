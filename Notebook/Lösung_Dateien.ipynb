{
 "cells": [
  {
   "cell_type": "markdown",
   "id": "8b23ce9f-6459-476a-975d-23ee40675e48",
   "metadata": {},
   "source": [
    "# Übungen Dateien lesen/schreiben\n",
    "\n",
    "plain text: https://www.w3schools.com/python/python_file_handling.asp<br>\n",
    "json: https://realpython.com/python-json/ <br><br>\n",
    "csv (via pandas): <br>\n",
    "https://pandas.pydata.org/docs/reference/api/pandas.DataFrame.from_dict.html <br>\n",
    "https://pandas.pydata.org/docs/reference/api/pandas.DataFrame.to_csv.html <br>\n",
    "https://pandas.pydata.org/docs/reference/api/pandas.read_csv.html <br>\n",
    "https://pandas.pydata.org/docs/reference/api/pandas.DataFrame.to_dict.html"
   ]
  },
  {
   "cell_type": "code",
   "execution_count": 1,
   "id": "61e559ef-3fa1-4aa2-8beb-99156a73ef5e",
   "metadata": {},
   "outputs": [],
   "source": [
    "# Variablen zum schreiben (einmal ausführen)\n",
    "import json\n",
    "\n",
    "text1 = \"\"\"Dunkel war’s, der Mond schien helle,\n",
    "schneebedeckt die grüne Flur,\n",
    "als ein Wagen blitzesschnelle,\n",
    "langsam um die Ecke fuhr.\n",
    "\n",
    "Drinnen saßen stehend Leute,\n",
    "schweigend ins Gespräch vertieft,\n",
    "als ein totgeschoss’ner Hase\n",
    "auf der Sandbank Schlittschuh lief.\n",
    "\n",
    "Und ein blondgelockter Jüngling\n",
    "mit kohlrabenschwarzem Haar\n",
    "saß auf einer grünen Kiste,\n",
    "die rot angestrichen war.\n",
    "\n",
    "Neben ihm ’ne alte Schrulle,\n",
    "zählte kaum erst sechzehn Jahr,\n",
    "in der Hand ’ne Butterstulle,\n",
    "die mit Schmalz bestrichen war.\"\"\"\n",
    "\n",
    "text2 = \"\"\"Eine Kuh, die saß im Schwalbennest\n",
    "mit sieben jungen Ziegen,\n",
    "sie feierten ihr Jubelfest\n",
    "und fingen an zu fliegen.\n",
    "\n",
    "Der Esel zog Pantoffeln an,\n",
    "ist übers Haus geflogen.\n",
    "Und wenn das nicht die Wahrheit ist,\n",
    "so ist es doch gelogen.\"\"\""
   ]
  },
  {
   "cell_type": "markdown",
   "id": "532f9579-7186-4a49-9c60-b29006431d4f",
   "metadata": {},
   "source": [
    "### 1. Plain text"
   ]
  },
  {
   "cell_type": "code",
   "execution_count": 2,
   "id": "a7f8d788-21e2-498f-a34b-6f7c35aa6526",
   "metadata": {},
   "outputs": [],
   "source": [
    "# 1a) Exportiere den \"text1\" als Gedicht.txt Datei\n",
    "\n",
    "f = open(file=\"Gedicht.txt\", mode=\"w\", encoding=\"UTF-8\")  # keword arguments und encoding nicht zwingend notwendig\n",
    "f.write(text1)\n",
    "f.close()\n",
    "\n"
   ]
  },
  {
   "cell_type": "code",
   "execution_count": 3,
   "id": "5bbad496-c4ec-460e-90eb-228e058c9e76",
   "metadata": {},
   "outputs": [],
   "source": [
    "# bessere schreibweise (schließt die Datei automatisch)\n",
    "with open(file=\"Gedicht.txt\", mode=\"w\", encoding=\"UTF-8\") as f:\n",
    "    f.write(text1)"
   ]
  },
  {
   "cell_type": "code",
   "execution_count": 4,
   "id": "28f27048-6d39-404b-b727-04cb8cf05ce5",
   "metadata": {},
   "outputs": [],
   "source": [
    "# 1b) Füge den \"text2\" in der Gedicht.txt hinter \"text1\" an (und einem leeren Zeilenumbruch\n",
    "\n",
    "with open(file=\"Gedicht.txt\", mode=\"a\", encoding=\"UTF-8\") as f:\n",
    "    f.write(\"\\n\\n\" + text2)"
   ]
  },
  {
   "cell_type": "code",
   "execution_count": 5,
   "id": "f3fa1ee1-fd98-4a9b-a093-eaf5ca7ad29e",
   "metadata": {},
   "outputs": [
    {
     "name": "stdout",
     "output_type": "stream",
     "text": [
      "Dunkel war’s, der Mond schien helle,\n",
      "schneebedeckt die grüne Flur,\n",
      "als ein Wagen blitzesschnelle,\n",
      "langsam um die Ecke fuhr.\n",
      "\n",
      "Drinnen saßen stehend Leute,\n",
      "schweigend ins Gespräch vertieft,\n",
      "als ein totgeschoss’ner Hase\n",
      "auf der Sandbank Schlittschuh lief.\n",
      "\n",
      "Und ein blondgelockter Jüngling\n",
      "mit kohlrabenschwarzem Haar\n",
      "saß auf einer grünen Kiste,\n",
      "die rot angestrichen war.\n",
      "\n",
      "Neben ihm ’ne alte Schrulle,\n",
      "zählte kaum erst sechzehn Jahr,\n",
      "in der Hand ’ne Butterstulle,\n",
      "die mit Schmalz bestrichen war.\n",
      "\n",
      "Eine Kuh, die saß im Schwalbennest\n",
      "mit sieben jungen Ziegen,\n",
      "sie feierten ihr Jubelfest\n",
      "und fingen an zu fliegen.\n",
      "\n",
      "Der Esel zog Pantoffeln an,\n",
      "ist übers Haus geflogen.\n",
      "Und wenn das nicht die Wahrheit ist,\n",
      "so ist es doch gelogen.\n"
     ]
    }
   ],
   "source": [
    "# 1c) Importiere Gedicht.txt und gebe es den gesamt inhalt aus\n",
    "\n",
    "with open(file=\"Gedicht.txt\", mode=\"r\", encoding=\"UTF-8\") as f:\n",
    "    content = f.read()\n",
    "\n",
    "print(content)\n"
   ]
  },
  {
   "cell_type": "code",
   "execution_count": 48,
   "id": "eee319fd-7622-4664-9b30-b614e5776434",
   "metadata": {},
   "outputs": [
    {
     "name": "stdout",
     "output_type": "stream",
     "text": [
      "1 Dunkel war’s, der Mond schien helle,\n",
      "2 schneebedeckt die grüne Flur,\n",
      "3 als ein Wagen blitzesschnelle,\n",
      "4 langsam um die Ecke fuhr.\n",
      "5 \n",
      "6 Drinnen saßen stehend Leute,\n",
      "7 schweigend ins Gespräch vertieft,\n",
      "8 als ein totgeschoss’ner Hase\n",
      "9 auf der Sandbank Schlittschuh lief.\n",
      "10 \n",
      "11 Und ein blondgelockter Jüngling\n",
      "12 mit kohlrabenschwarzem Haar\n",
      "13 saß auf einer grünen Kiste,\n",
      "14 die rot angestrichen war.\n",
      "15 \n",
      "16 Neben ihm ’ne alte Schrulle,\n",
      "17 zählte kaum erst sechzehn Jahr,\n",
      "18 in der Hand ’ne Butterstulle,\n",
      "19 die mit Schmalz bestrichen war.\n",
      "20 \n",
      "21 Eine Kuh, die saß im Schwalbennest\n",
      "22 mit sieben jungen Ziegen,\n",
      "23 sie feierten ihr Jubelfest\n",
      "24 und fingen an zu fliegen.\n",
      "25 \n",
      "26 Der Esel zog Pantoffeln an,\n",
      "27 ist übers Haus geflogen.\n",
      "28 Und wenn das nicht die Wahrheit ist,\n",
      "29 so ist es doch gelogen.\n"
     ]
    }
   ],
   "source": [
    "# 1d) Importiere Gedicht.txt und gib jede Zeile einzeln aus.\n",
    "#     Jede Zeile soll die Zeilennummer vorgestellt haben \n",
    "#     und ohne Leerzeichen/Zeilenumbrüch am dargestellt werden\n",
    "\n",
    "# Ergebniss sollte so aussehen:\n",
    "\"\"\"\n",
    "1 Dunkel war’s, der Mond schien helle,\n",
    "2 schneebedeckt die grüne Flur,\n",
    "3 als ein Wagen blitzesschnelle,\n",
    "4 langsam um die Ecke fuhr.\n",
    "5 \n",
    "6 Drinnen saßen stehend Leute,\n",
    "7 schweigend ins Gespräch vertieft\n",
    "...\n",
    "\"\"\"\n",
    "\n",
    "with open(file=\"Gedicht.txt\", mode=\"r\", encoding=\"UTF-8\") as f:\n",
    "    content = f.readlines()\n",
    "    \n",
    "n = 1\n",
    "for line in content:\n",
    "    print(str(n) + \" \" + line.strip())\n",
    "    n += 1"
   ]
  },
  {
   "cell_type": "markdown",
   "id": "98b521c1-dfc0-43a2-ba09-dd2fbdf0e3a8",
   "metadata": {},
   "source": [
    "### Json"
   ]
  },
  {
   "cell_type": "code",
   "execution_count": 32,
   "id": "dab12ec8-65c7-4370-949a-4a0db612f517",
   "metadata": {},
   "outputs": [],
   "source": [
    "datastructure = [1, 2, 3, {\"a\": 4, \"b\": 5, \"c\": (6, 7, 8, 9)}]"
   ]
  },
  {
   "cell_type": "code",
   "execution_count": 45,
   "id": "0629dc73-f28e-44c8-94ba-61e1f01d9d51",
   "metadata": {},
   "outputs": [],
   "source": [
    "# 2a) Export \"datastructure\" als .json datei\n",
    "\n",
    "with open(\"myjson.json\", mode=\"w\") as f:\n",
    "    json.dump(datastructure, f, indent=4) "
   ]
  },
  {
   "cell_type": "code",
   "execution_count": 50,
   "id": "fabc7655-19a7-4853-87c1-e012ac1196a3",
   "metadata": {},
   "outputs": [
    {
     "name": "stdout",
     "output_type": "stream",
     "text": [
      "[1, 2, 3, {'a': 4, 'b': 5, 'c': [6, 7, 8, 9]}]\n"
     ]
    }
   ],
   "source": [
    "# 2b) Importiere den Inhalt der .json datei und gieb ihn aus\n",
    "\n",
    "with open(\"myjson.json\", mode=\"r\") as f:\n",
    "    data = json.load(f) \n",
    "\n",
    "print(data)"
   ]
  },
  {
   "cell_type": "markdown",
   "id": "ec226e4c-1db7-4ccc-a4ff-44e944da454b",
   "metadata": {},
   "source": [
    "### CSV"
   ]
  },
  {
   "cell_type": "code",
   "execution_count": 54,
   "id": "abe8b18b-4eea-4e6b-adbd-6e94c6b3801c",
   "metadata": {},
   "outputs": [],
   "source": [
    "import pandas as pd\n",
    "import csv\n",
    "\n",
    "cars = [{\"brand\": \"Audi\", \"color\": \"black\", \"price\": 20000},\n",
    "        {\"brand\": \"Mercedes\", \"color\": \"grün\", \"price\": 39000},\n",
    "        {\"brand\": \"Wartburg\", \"color\": \"braun\", \"price\": 9999},\n",
    "       ]"
   ]
  },
  {
   "cell_type": "code",
   "execution_count": 68,
   "id": "de52bd65-c600-48d1-8012-2ec26f448518",
   "metadata": {},
   "outputs": [],
   "source": [
    "# 3a) Speichere \"cars\" als .csv Datei (mit pandas oder mit csv)\n",
    "\n",
    "df = pd.DataFrame.from_dict(cars)\n",
    "df.to_csv(\"my_cars.csv\", index=False)"
   ]
  },
  {
   "cell_type": "code",
   "execution_count": 69,
   "id": "b4385558-9f3e-4ac1-858f-61a9d709cff6",
   "metadata": {},
   "outputs": [
    {
     "name": "stdout",
     "output_type": "stream",
     "text": [
      "[{'brand': 'Audi', 'color': 'black', 'price': 20000}, {'brand': 'Mercedes', 'color': 'grün', 'price': 39000}, {'brand': 'Wartburg', 'color': 'braun', 'price': 9999}]\n"
     ]
    }
   ],
   "source": [
    "# 3b) Importiere den Inhalt der .csv datei und gieb ihn als dict aus (so strukturiert, wie \"cars\")\n",
    "\n",
    "df2 = pd.read_csv(\"my_cars.csv\", header=0)\n",
    "content = df2.to_dict(\"records\")\n",
    "print(content)"
   ]
  },
  {
   "cell_type": "code",
   "execution_count": null,
   "id": "4dcd52f7-6141-430f-a922-6200f4a656ce",
   "metadata": {},
   "outputs": [],
   "source": []
  }
 ],
 "metadata": {
  "kernelspec": {
   "display_name": "Python 3 (ipykernel)",
   "language": "python",
   "name": "python3"
  },
  "language_info": {
   "codemirror_mode": {
    "name": "ipython",
    "version": 3
   },
   "file_extension": ".py",
   "mimetype": "text/x-python",
   "name": "python",
   "nbconvert_exporter": "python",
   "pygments_lexer": "ipython3",
   "version": "3.11.5"
  }
 },
 "nbformat": 4,
 "nbformat_minor": 5
}
