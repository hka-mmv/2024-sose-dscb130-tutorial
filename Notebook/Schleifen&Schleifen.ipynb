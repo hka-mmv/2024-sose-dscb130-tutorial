{
 "cells": [
  {
   "cell_type": "markdown",
   "metadata": {},
   "source": [
    "<h1>Schleifen in Python</h1>\n",
    "es gibt zwei direkte Möglichkeiten Schleifen in Python zu erstellen. zum einen for-Schleifen und zu anderen while-Schleifen. \n",
    "<h2> While-Schleifen </h2>"
   ]
  },
  {
   "cell_type": "code",
   "execution_count": null,
   "metadata": {},
   "outputs": [],
   "source": [
    "i = 1\n",
    "while i < 5:\n",
    "    print(f\"{i}. Hallo\")\n",
    "    i += 1"
   ]
  },
  {
   "cell_type": "markdown",
   "metadata": {},
   "source": [
    "wichtig bei erstellen von schleifen in Python ist, dass die Bedingung überprüft wird bevor eine Schleife durchläuft. In Java z.B. wird die Bedingung in einer while-Schleife erst nach der ersten Durchführung überprüft, dies ist in Python nicht der Fall."
   ]
  },
  {
   "cell_type": "markdown",
   "metadata": {},
   "source": [
    "<h2>For-Schleifen</h2>\n"
   ]
  },
  {
   "cell_type": "code",
   "execution_count": null,
   "metadata": {},
   "outputs": [],
   "source": [
    "Etui = [\"Kugelscchreiber\", \"Radiergummi\", \"Bleistift\", \"Schere\", \"Zirkel\"]\n",
    "for element in Etui:\n",
    "    print(element)"
   ]
  },
  {
   "cell_type": "markdown",
   "metadata": {},
   "source": [
    "Auch hier verhält sich die anders im Vergleich zu anderen Programmiersprachen, so ist die for-Schleife in Python mehr ein Iterator für Listen und ähnliches als eine normale Schleife, für den Fall, dass jemand nicht die while-Schleife benutzen möchte um etwas zu machen ist es auch möglich die range() funnktion in for-Schleifen zu benutzen."
   ]
  },
  {
   "cell_type": "code",
   "execution_count": null,
   "metadata": {},
   "outputs": [],
   "source": [
    "for something in"
   ]
  },
  {
   "cell_type": "markdown",
   "metadata": {},
   "source": [
    "<h3> Die Break Bedingung</h3>\n",
    "mit der Hilfe der break Bedingung ist es möglich eine for- und while-Schleife zu Beenden, obwohl die initiale Bedingung noch wahr ist.\n"
   ]
  },
  {
   "cell_type": "code",
   "execution_count": null,
   "metadata": {},
   "outputs": [],
   "source": [
    "for element in Etui:\n",
    "    print(element)\n",
    "    if element == Etui[2]:\n",
    "        break"
   ]
  },
  {
   "cell_type": "markdown",
   "metadata": {},
   "source": [
    "<h3>Else</h3>"
   ]
  },
  {
   "cell_type": "code",
   "execution_count": null,
   "metadata": {},
   "outputs": [],
   "source": [
    "j = 0\n",
    "while j < 6:\n",
    "    print(6-j)\n",
    "    j += 1\n",
    "else:\n",
    "    print(\"Booom😂!\")"
   ]
  },
  {
   "cell_type": "markdown",
   "metadata": {},
   "source": [
    "<h3>Continue-Bedingung</h3>\n",
    "Es ist auch möglich durch die continue-Bedingung eine Schleifeniteratiion abzubrechen und bei dem nächsten durchlauf weiterzumachen."
   ]
  },
  {
   "cell_type": "code",
   "execution_count": null,
   "metadata": {},
   "outputs": [],
   "source": [
    "#Erstellt eine while-Schleife die von 10 herunterzählt, dabei aber die 3 und 4 auslässt"
   ]
  },
  {
   "cell_type": "markdown",
   "metadata": {},
   "source": [
    "<h3>Schleifen dürfen nicht leer sein</h3>\n",
    "sollten Sie aus irgenteinem Grund eine Schleife benötigen, die nichts macht, dann bentutzen Sie die pass Bedingung."
   ]
  },
  {
   "cell_type": "code",
   "execution_count": null,
   "metadata": {},
   "outputs": [],
   "source": [
    "for ele in Etui:\n",
    "    pass"
   ]
  }
 ],
 "metadata": {
  "kernelspec": {
   "display_name": "Python 3",
   "language": "python",
   "name": "python3"
  },
  "language_info": {
   "codemirror_mode": {
    "name": "ipython",
    "version": 3
   },
   "file_extension": ".py",
   "mimetype": "text/x-python",
   "name": "python",
   "nbconvert_exporter": "python",
   "pygments_lexer": "ipython3",
   "version": "3.12.3"
  }
 },
 "nbformat": 4,
 "nbformat_minor": 2
}
